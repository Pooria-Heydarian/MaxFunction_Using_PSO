{
 "cells": [
  {
   "cell_type": "code",
   "execution_count": 10,
   "metadata": {},
   "outputs": [],
   "source": [
    "import numpy as np "
   ]
  },
  {
   "attachments": {},
   "cell_type": "markdown",
   "metadata": {},
   "source": [
    "using numpy library in this algorythm for working with array"
   ]
  },
  {
   "cell_type": "code",
   "execution_count": 11,
   "metadata": {},
   "outputs": [],
   "source": [
    "def fitness_function(x,y):\n",
    "    return np.abs(np.sin(x) * np.cos(y) * np.exp(np.abs(1 - np.sqrt(x ** 2 + y ** 2) / np.pi)))"
   ]
  },
  {
   "attachments": {},
   "cell_type": "markdown",
   "metadata": {},
   "source": [
    "define function "
   ]
  },
  {
   "cell_type": "code",
   "execution_count": 12,
   "metadata": {},
   "outputs": [],
   "source": [
    "class Particle:\n",
    "    def __init__(self, num_dimensions, lower_bound, upper_bound):\n",
    "        self.position = np.random.uniform(lower_bound, upper_bound, num_dimensions)\n",
    "        self.velocity = np.zeros(num_dimensions)\n",
    "        self.best_position = self.position\n",
    "        self.best_fitness = float('-inf')\n"
   ]
  },
  {
   "attachments": {},
   "cell_type": "markdown",
   "metadata": {},
   "source": [
    "Set first particle detail(position -> random, volacity = 0, best_position = first position and fitness = -inf f) for each particle.  "
   ]
  },
  {
   "cell_type": "code",
   "execution_count": 13,
   "metadata": {},
   "outputs": [],
   "source": [
    "class PSO:\n",
    "    def __init__(self, num_particles, num_dimensions, lower_bound, upper_bound, num_iterations, inertia_weight, cognitive_weight, social_weight):\n",
    "        self.num_particles = num_particles\n",
    "        self.num_dimensions = num_dimensions\n",
    "        self.lower_bound = lower_bound\n",
    "        self.upper_bound = upper_bound\n",
    "        self.num_iterations = num_iterations\n",
    "        self.inertia_weight = inertia_weight\n",
    "        self.cognitive_weight = cognitive_weight\n",
    "        self.social_weight = social_weight\n",
    "        self.global_best_position = None\n",
    "        self.global_best_fitness = float('-inf')\n",
    "        self.particles = []\n",
    "\n",
    "    def run(self, fitness_function):\n",
    "        self.initialize_particles()\n",
    "\n",
    "        for iteration in range(self.num_iterations):\n",
    "            for particle in self.particles:\n",
    "                fitness = fitness_function(particle.position[0], particle.position[1])\n",
    "\n",
    "                if fitness > particle.best_fitness:\n",
    "                    particle.best_position = particle.position\n",
    "                    particle.best_fitness = fitness\n",
    "\n",
    "                if fitness > self.global_best_fitness:\n",
    "                    self.global_best_position = particle.position\n",
    "                    self.global_best_fitness = fitness\n",
    "\n",
    "                self.update_particle_velocity(particle)\n",
    "                self.update_particle_position(particle)\n",
    "\n",
    "        return self.global_best_position, self.global_best_fitness\n",
    "\n",
    "    def initialize_particles(self):\n",
    "        self.particles = [Particle(self.num_dimensions, self.lower_bound, self.upper_bound)\n",
    "                          for _ in range(self.num_particles)]\n",
    "\n",
    "    def update_particle_velocity(self, particle):\n",
    "        particle.velocity = (self.inertia_weight * particle.velocity +\n",
    "                             self.cognitive_weight * np.random.rand() * (particle.best_position - particle.position) +\n",
    "                             self.social_weight * np.random.rand() * (self.global_best_position - particle.position))\n",
    "\n",
    "    def update_particle_position(self, particle):\n",
    "        particle.position = np.clip(particle.position + particle.velocity, self.lower_bound, self.upper_bound)\n"
   ]
  },
  {
   "attachments": {},
   "cell_type": "markdown",
   "metadata": {},
   "source": [
    "Doing PSO :\n",
    "__init__:\n",
    "Set start value for Algo\n",
    "\n",
    "run:\n",
    "1- initialize_particles\n",
    "2- calculate and compresion fitness\n",
    "3- update particle's volacity and position\n",
    "\n",
    "initialize_particle:\n",
    "Make particles set .\n",
    "\n",
    "update_particle_volacity:\n",
    "V(t+1) = w * V(t) + c1 * rand() * (Pbest - X(t)) + c2 * rand() * (Gbest - X(t))\n",
    "\n",
    "update_particle_position:\n",
    "P(t+1) = P(t) + V(t+1)\n",
    "\n"
   ]
  },
  {
   "cell_type": "code",
   "execution_count": 14,
   "metadata": {},
   "outputs": [],
   "source": [
    "num_particles = 30\n",
    "num_dimensions = 2\n",
    "lower_bound = -10\n",
    "upper_bound = 10\n",
    "num_iterations = 40\n",
    "inertia_weight = 0.7\n",
    "cognitive_weight = 1.4\n",
    "social_weight = 1.5"
   ]
  },
  {
   "attachments": {},
   "cell_type": "markdown",
   "metadata": {},
   "source": [
    "Set parameters of pso  "
   ]
  },
  {
   "cell_type": "code",
   "execution_count": 15,
   "metadata": {},
   "outputs": [],
   "source": [
    "pso = PSO(num_particles, num_dimensions, lower_bound, upper_bound, num_iterations, inertia_weight, cognitive_weight, social_weight)\n",
    "global_best_position, global_best_fitness = pso.run(fitness_function)"
   ]
  },
  {
   "attachments": {},
   "cell_type": "markdown",
   "metadata": {},
   "source": [
    "DO pso andfind best position"
   ]
  },
  {
   "cell_type": "code",
   "execution_count": 16,
   "metadata": {},
   "outputs": [
    {
     "name": "stdout",
     "output_type": "stream",
     "text": [
      "Global Best Position: [8.05536019 9.66461627]\n",
      "Global Best Fitness: 19.20850144093607\n"
     ]
    }
   ],
   "source": [
    "print(\"Global Best Position:\", global_best_position)\n",
    "print(\"Global Best Fitness:\", global_best_fitness)\n"
   ]
  }
 ],
 "metadata": {
  "kernelspec": {
   "display_name": "PSO_ANC",
   "language": "python",
   "name": "python3"
  },
  "language_info": {
   "codemirror_mode": {
    "name": "ipython",
    "version": 3
   },
   "file_extension": ".py",
   "mimetype": "text/x-python",
   "name": "python",
   "nbconvert_exporter": "python",
   "pygments_lexer": "ipython3",
   "version": "3.9.7"
  },
  "orig_nbformat": 4
 },
 "nbformat": 4,
 "nbformat_minor": 2
}
